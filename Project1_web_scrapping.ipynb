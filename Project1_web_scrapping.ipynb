{
 "cells": [
  {
   "cell_type": "markdown",
   "id": "6b3ddfa4",
   "metadata": {},
   "source": [
    "# Automating websearch for the query term"
   ]
  },
  {
   "cell_type": "markdown",
   "id": "a9a9598f",
   "metadata": {},
   "source": [
    "Using the python file `screenshot_automation.py` for automated screenshot of the query results in Chrome for query term: \"Childhood cancer early diagnosis methods\". selenium.webdriver is used inorder to automate the query and the final screenshot if saved as screenshot.png."
   ]
  },
  {
   "cell_type": "code",
   "execution_count": 5,
   "id": "f0f26e95",
   "metadata": {},
   "outputs": [],
   "source": [
    "%run screenshot_automation.py"
   ]
  },
  {
   "cell_type": "markdown",
   "id": "88a85ab2",
   "metadata": {},
   "source": [
    " Now, the obtained screenshot is used to scrape info using pytesseract library "
   ]
  },
  {
   "cell_type": "code",
   "execution_count": 6,
   "id": "bd01eb0b",
   "metadata": {},
   "outputs": [
    {
     "name": "stdout",
     "output_type": "stream",
     "text": [
      "Requirement already satisfied: tesseract in /Users/abhinapremachandran/anaconda3/lib/python3.11/site-packages (0.1.3)\n",
      "Note: you may need to restart the kernel to use updated packages.\n"
     ]
    }
   ],
   "source": [
    "pip install tesseract"
   ]
  },
  {
   "cell_type": "code",
   "execution_count": 7,
   "id": "11630bc4",
   "metadata": {},
   "outputs": [
    {
     "name": "stdout",
     "output_type": "stream",
     "text": [
      "Google\n",
      "\n",
      "Google apps\n",
      "\n",
      "Childhood cancer early diagnosis methods x baa\n",
      "\n",
      "All Images News Videos Shopping: More Tools\n",
      "\n",
      "About 520,000,000 results (0.30 seconds)\n",
      "Scholarly articles for Childhood cancer early diagnosis methods\n",
      "Diagnosis delays in childhood cancer: a review - Dang-Tan - Cited by 302\n",
      "\n",
      "... of diagnosis and treatment: the challenge of childhood ... - Mullen - Cited by 18\n",
      "Time to diagnosis and treatment of childhood cancer - Verma - Cited by 18\n",
      "\n",
      "Your health care provider also asks about your child's health history. To\n",
      "diagnose cancer, your provider may order different kinds of tests,\n",
      "including blood tests, imaging tests, and biopsies. For most types of\n",
      "cancer, a biopsy is the only way to get an accurate diagnosis.\n",
      "\n",
      "‘St. Jude together\n",
      "\n",
      "hitps:/together.stjude.org  diagnosing-childhood-cancer\n",
      "\n",
      "Childhood Cancer Diagnosis: Tests, Exams & More\n",
      "\n",
      "@ About featured snippets + [ll Feedback\n",
      "\n",
      "‘American Cancer Society\n",
      "httpsy/www.cancer.org >...» Cancer in Children i\n",
      "\n",
      "Finding Cancer in Children | Childhood Cancer Signs & ...\n",
      "\n",
      "Oct 14, 2019 — These children may need careful, regular medical check-ups that include\n",
      "‘special tests to look for early signs of cancer.\n",
      "Missing: methods | Show results with: methods\n",
      "\n",
      "People also ask :\n",
      "\n",
      "How can you detect childhood cancer early? v\n",
      "What are the methods of early detection of cancer? v\n",
      "How are pediatric cancers diagnosed? v\n",
      "What are 4 methods for diagnosis of cancer? v\n",
      "Feedback\n",
      "Cancer.Net\n",
      "\n",
      "htipshwww.cancernet  cancertypes » diagnosis i\n",
      "\n",
      "Childhood Cancer: Diagnosis\n",
      "How childhood cancer is diagnosed - Blood tests. : Bone marrow aspiration and biopsy. «\n",
      "Lumbar puncture (spinal tap). « Ultrasound. - Computed tomography (CT or CAT) ...\n",
      "\n",
      "fp _ National institutes of Health (NIH) (gov)\n",
      "https:/www.nebi.nim.nih.gov articles » PMC9919359\n",
      "\n",
      "Biomarkers and Corresponding Biosensors for Childhood ...\n",
      "by A Gharehzadehshirazi - 2023 « Cited by 7 — Therefore, early and accurate detection\n",
      "methods are urgently needed to effectively treat children with cancer therapy. Identification an...\n",
      "\n",
      "PAHO IRIS\n",
      "\n",
      "hiips:/ris paho.org » 9789275118467-eng POF\n",
      "Early Diagnosis of Childhood Cancer - PAHO IRIS\n",
      "Early Detection of Cancer. 3. Neoplasms. 4. Integrated Management of Childhood. Iliness. |.\n",
      "Title. Il. AIEPI. My Child Matters. Fighting Childhood Canc\n",
      "\n",
      "@ National Institutes of Health (NIH) (.gov)\n",
      "https://pubmed.ncbi.nim.nih.gov > :\n",
      "\n",
      "Biomarkers and Corresponding Biosensors for Childhood ...\n",
      "\n",
      "by A Gharehzadehshirazi - 2023 - Cited by 7 — Identification and detection of cancer\n",
      "\n",
      "biomarkers serve as non-invasive tools for early cancer screening, prevention, and treatment.\n",
      "\n",
      "cancercenter.com\n",
      "\n",
      "hitpsi/www.cancercenter.com  cancer-types diagnosis}\n",
      "Diagnosing Cancer in Children\n",
      "Tests for childhood cancer diagnosis - Physical exam and blood and fluid tests « Neurological\n",
      "tests : Biopsy and needle aspiration - Imaging exams - Supporting your ...\n",
      "\n",
      "¢ American Childhood Cancer Organization\n",
      "hitpsi/iwww.acco.org » diagnosis i\n",
      "Diagnosis - ACCO\n",
      "He or she may recommend imaging tests (i.e. MRI, x-ray), additional screening tests, and/or a\n",
      "biopsy if your child presents with an abnormal lump or tumor. The ...\n",
      "Missing: metheds | Show results with: methods\n",
      "\n",
      "Pan American Health Organization (PAHO)\n",
      "hitps:/iwww.paho.org > campaigns » suppor-kids-canc....\n",
      "\n",
      "Support Kids with Cancer - Early Diagnosis of Childhood ...\n",
      "\n",
      "In pediatric cancer, a timely diagnosis and treatment are key to improving the chances of\n",
      "\n",
      "survival. In this task, parents, and caregivers, as well as the ..\n",
      "\n",
      "Missing: metheds | Show results with: methods\n",
      "\n",
      "Cleveland Clinic\n",
      "rd https:/imy.clevelandclinic.org » health » diseases » 249...\n",
      "\n",
      "Childhood Cancer (Pediatric Cancer)\n",
      "\n",
      "May 1, 2023 — Childhood cancer tests may include: Blood tests. Your child's provider may do\n",
      "blood tests to diagnose conditions such as leukemia and lymphoma.\n",
      "\n",
      "Overview : Symptoms And Causes - Management And Treatment\n",
      "\n",
      "Missing: metheds | Show results with: methods\n",
      "\n",
      "Related searches :\n",
      "\n",
      "first signs my child has cana child have cancer with\n",
      "cancer normal blood work\n",
      "\n",
      "Q ce imyfoniid navelcanced Q childhood cancer symptoms\n",
      "\n",
      "fed flag signs of cancer in first signs my child has\n",
      "childhood cancer reddit\n",
      "\n",
      "blood tests for childhood Why's childhood cancer\n",
      "cancer increasing\n",
      "\n",
      "es Advocate Children’s Hospital\n",
      "https:/www.advocatechildrenshospital.com » cancer di... $\n",
      "Diagnosing childhood cancer with tests and scans\n",
      "Tumor biopsies and other diagnostic procedures - Biopsy: Your child's doctor may remove a\n",
      "‘small amount of tissue where they suspect the cancer is located. : Bone ...\n",
      "Missing: early | Show results with: early\n",
      "\n",
      "(@ Wot Health Organization (WHO)\n",
      "https:/Awww.who.int » Newsroom » Fact sheets » Detail ?\n",
      "\n",
      "Childhood cancer\n",
      "\n",
      "Dec 13, 2021 —... methods such as early detection and ... However, cure is possible for more\n",
      "than 80% of children with cancer when childhood cancer services are ...\n",
      "\n",
      "© BMJ Open\n",
      "https:/omjopen.bm).com content =\n",
      "\n",
      "The Childhood Cancer Diagnosis (CCD) Study\n",
      "by D Shanmugavadivel - 2022 - Cited by 1 — Data will be collected at initial diagnosis and 5\n",
      "years after diagnosis. Data will include demographic details, clinical symptoms, tumour...\n",
      "\n",
      "Yale Medicine\n",
      "htipshwwwyalemedicine.org > conditions » pediatrc-c..\n",
      "\n",
      "Pediatric Cancer\n",
      "Pediatric Cancer - Children can develop all kinds of cancer, but some kinds occur more\n",
      "frequently than others - Common cancer types include leukemia, ..\n",
      "\n",
      "‘American Cancer Society\n",
      "httpsy/www.cancer.org >... Leukemia in Children $\n",
      "\n",
      "Childhood Leukemia Early Detection, Diagnosis, and Types\n",
      "Catching cancer early often allows for more treatment options. Some early cancers may have\n",
      "signs and symptoms that can be noticed, but that is not always the ...\n",
      "\n",
      "@ _2are-Farber Cancer Institute\n",
      "https:www.dana-farber.org » pediatric-maging-services\n",
      "\n",
      "Diagnostic Imaging for Childhood Cancer\n",
      "Diagnostic imaging for pediatric cancer requires the use of specialized techniques and\n",
      "‘equipment to obtain pictures of the interior of the body, including soft ...\n",
      "\n",
      "World Health Organization (WHO)\n",
      "® sipsinemsnoint Actes\n",
      "Promoting cancer early diagnosis\n",
      "\n",
      "Early diagnosis improves cancer outcomes by providing care at the\n",
      "‘stage and is therefore an important public health strategy in all settings.\n",
      "\n",
      "BMC Health Services Research\n",
      "\n",
      "hitps:bmchealthservres.biomedcentral.com articles\n",
      "Parent's perspectives of the pathway to diagnosis ...\n",
      "by LH Pedersen - 2020 - Cited by 19 — Early diagnosis is crucial for the treatment of\n",
      "childhood cancer as it in some cases can prevent progression of disease and\n",
      "improve ..\n",
      "\n",
      "@) _Natonal Cancer insttute (gov)\n",
      "https:/www.cancer.gov types » childhood-cancers £\n",
      "\n",
      "Childhood Cancers - NCI\n",
      "\n",
      "Sep 29, 2023 — Common treatments include: surgery, chemotherapy, radiation\n",
      "therapy, immunotherapy, and stem cell transplant. Learn about these and other ...\n",
      "Missing: methods | Show results with: methods\n",
      "\n",
      "CHOC - Children’s Hospital of Orange County\n",
      "hitpsi/iwww.choc.org » cancer diagnosticests i\n",
      "\n",
      "Cancer Diagnostic Tests - Children's Hospital of Orange ...\n",
      "\n",
      "An audiogram test measures a child's hearing. During this test, the child wears earphones and\n",
      "\n",
      "is asked to indicate by raising his or her hand when he or she ..\n",
      "\n",
      "SafeSearch »\n",
      "\n"
     ]
    }
   ],
   "source": [
    "import cv2\n",
    "import pytesseract\n",
    "\n",
    "img = cv2.imread('screenshot.png')\n",
    "text = pytesseract.image_to_string(img)\n",
    "print(text)"
   ]
  },
  {
   "cell_type": "code",
   "execution_count": 13,
   "id": "58515820",
   "metadata": {},
   "outputs": [
    {
     "data": {
      "text/plain": [
       "str"
      ]
     },
     "execution_count": 13,
     "metadata": {},
     "output_type": "execute_result"
    }
   ],
   "source": [
    "type(text)"
   ]
  },
  {
   "cell_type": "code",
   "execution_count": 8,
   "id": "2df42246",
   "metadata": {},
   "outputs": [
    {
     "name": "stdout",
     "output_type": "stream",
     "text": [
      "Collecting mysql-connector-python\n",
      "  Obtaining dependency information for mysql-connector-python from https://files.pythonhosted.org/packages/26/20/5a3bba5751e6fd5da6d2dd759e398f23ed43525fbb4729eda06df929498e/mysql_connector_python-8.3.0-cp311-cp311-macosx_13_0_arm64.whl.metadata\n",
      "  Downloading mysql_connector_python-8.3.0-cp311-cp311-macosx_13_0_arm64.whl.metadata (1.9 kB)\n",
      "Downloading mysql_connector_python-8.3.0-cp311-cp311-macosx_13_0_arm64.whl (15.3 MB)\n",
      "\u001b[2K   \u001b[90m━━━━━━━━━━━━━━━━━━━━━━━━━━━━━━━━━━━━━━━━\u001b[0m \u001b[32m15.3/15.3 MB\u001b[0m \u001b[31m21.3 MB/s\u001b[0m eta \u001b[36m0:00:00\u001b[0m00:01\u001b[0m00:01\u001b[0m\n",
      "\u001b[?25hInstalling collected packages: mysql-connector-python\n",
      "Successfully installed mysql-connector-python-8.3.0\n",
      "Note: you may need to restart the kernel to use updated packages.\n"
     ]
    }
   ],
   "source": [
    "#pip install mysql-connector-python"
   ]
  },
  {
   "cell_type": "code",
   "execution_count": 8,
   "id": "83169e52",
   "metadata": {},
   "outputs": [],
   "source": [
    "import mysql.connector"
   ]
  },
  {
   "cell_type": "code",
   "execution_count": 9,
   "id": "17921497",
   "metadata": {},
   "outputs": [
    {
     "name": "stdout",
     "output_type": "stream",
     "text": [
      "<mysql.connector.connection_cext.CMySQLConnection object at 0x16681f350>\n"
     ]
    }
   ],
   "source": [
    "import mysql.connector\n",
    "\n",
    "mydb = mysql.connector.connect(\n",
    "  host=\"localhost\",\n",
    "  user=\"root\",\n",
    "  password=\"Astro2498!\"\n",
    ")\n",
    "\n",
    "print(mydb)"
   ]
  },
  {
   "cell_type": "code",
   "execution_count": 10,
   "id": "3aedbc51",
   "metadata": {},
   "outputs": [
    {
     "name": "stdout",
     "output_type": "stream",
     "text": [
      "('information_schema',)\n",
      "('MY_CUSTOM_BOT',)\n",
      "('mysql',)\n",
      "('performance_schema',)\n",
      "('sys',)\n"
     ]
    }
   ],
   "source": [
    "mycursor = mydb.cursor()\n",
    "\n",
    "mycursor.execute(\"SHOW DATABASES\")\n",
    "\n",
    "for x in mycursor:\n",
    "  print(x)"
   ]
  },
  {
   "cell_type": "code",
   "execution_count": 11,
   "id": "a9685657",
   "metadata": {},
   "outputs": [],
   "source": [
    "# connecting to the database\n",
    "mydb = mysql.connector.connect(\n",
    "  host=\"localhost\",\n",
    "  user=\"root\",\n",
    "  password=\"Astro2498!\",\n",
    "  database=\"MY_CUSTOM_BOT\"\n",
    ")"
   ]
  },
  {
   "cell_type": "code",
   "execution_count": 12,
   "id": "ec64f5d8",
   "metadata": {},
   "outputs": [
    {
     "ename": "SyntaxError",
     "evalue": "(unicode error) 'unicodeescape' codec can't decode bytes in position 4-5: truncated \\uXXXX escape (2360559860.py, line 3)",
     "output_type": "error",
     "traceback": [
      "\u001b[0;36m  Cell \u001b[0;32mIn[12], line 3\u001b[0;36m\u001b[0m\n\u001b[0;31m    with open(\"path\\url_example.txt\") as file:\u001b[0m\n\u001b[0m                                    ^\u001b[0m\n\u001b[0;31mSyntaxError\u001b[0m\u001b[0;31m:\u001b[0m (unicode error) 'unicodeescape' codec can't decode bytes in position 4-5: truncated \\uXXXX escape\n"
     ]
    }
   ],
   "source": [
    "import re\n",
    " \n",
    "with open(\"path\\url_example.txt\") as file:\n",
    "        for line in file:\n",
    "            urls = re.findall('https?://(?:[-\\w.]|(?:%[\\da-fA-F]{2}))+', line)\n",
    "            print(urls)"
   ]
  },
  {
   "cell_type": "code",
   "execution_count": 24,
   "id": "cdf5e7cf",
   "metadata": {},
   "outputs": [
    {
     "data": {
      "text/plain": [
       "str"
      ]
     },
     "execution_count": 24,
     "metadata": {},
     "output_type": "execute_result"
    }
   ],
   "source": []
  },
  {
   "cell_type": "code",
   "execution_count": 11,
   "id": "2aa7d3ba",
   "metadata": {},
   "outputs": [
    {
     "ename": "ProgrammingError",
     "evalue": "2055: Cursor is not connected",
     "output_type": "error",
     "traceback": [
      "\u001b[0;31m---------------------------------------------------------------------------\u001b[0m",
      "\u001b[0;31mReferenceError\u001b[0m                            Traceback (most recent call last)",
      "File \u001b[0;32m~/anaconda3/lib/python3.11/site-packages/mysql/connector/cursor_cext.py:343\u001b[0m, in \u001b[0;36mCMySQLCursor.execute\u001b[0;34m(self, operation, params, multi)\u001b[0m\n\u001b[1;32m    342\u001b[0m \u001b[38;5;28;01mtry\u001b[39;00m:\n\u001b[0;32m--> 343\u001b[0m     \u001b[38;5;28;01mif\u001b[39;00m \u001b[38;5;129;01mnot\u001b[39;00m \u001b[38;5;28mself\u001b[39m\u001b[38;5;241m.\u001b[39m_cnx \u001b[38;5;129;01mor\u001b[39;00m \u001b[38;5;28mself\u001b[39m\u001b[38;5;241m.\u001b[39m_cnx\u001b[38;5;241m.\u001b[39mis_closed():\n\u001b[1;32m    344\u001b[0m         \u001b[38;5;28;01mraise\u001b[39;00m ProgrammingError\n",
      "\u001b[0;31mReferenceError\u001b[0m: weakly-referenced object no longer exists",
      "\nThe above exception was the direct cause of the following exception:\n",
      "\u001b[0;31mProgrammingError\u001b[0m                          Traceback (most recent call last)",
      "Cell \u001b[0;32mIn[11], line 4\u001b[0m\n\u001b[1;32m      2\u001b[0m sql \u001b[38;5;241m=\u001b[39m \u001b[38;5;124m\"\u001b[39m\u001b[38;5;124mINSERT INTO customers (name, address) VALUES (\u001b[39m\u001b[38;5;132;01m%s\u001b[39;00m\u001b[38;5;124m, \u001b[39m\u001b[38;5;132;01m%s\u001b[39;00m\u001b[38;5;124m)\u001b[39m\u001b[38;5;124m\"\u001b[39m\n\u001b[1;32m      3\u001b[0m val \u001b[38;5;241m=\u001b[39m (\u001b[38;5;124m\"\u001b[39m\u001b[38;5;124mJohn\u001b[39m\u001b[38;5;124m\"\u001b[39m, \u001b[38;5;124m\"\u001b[39m\u001b[38;5;124mHighway 21\u001b[39m\u001b[38;5;124m\"\u001b[39m)\n\u001b[0;32m----> 4\u001b[0m mycursor\u001b[38;5;241m.\u001b[39mexecute(sql, val)\n\u001b[1;32m      6\u001b[0m mydb\u001b[38;5;241m.\u001b[39mcommit()\n\u001b[1;32m      8\u001b[0m \u001b[38;5;28mprint\u001b[39m(mycursor\u001b[38;5;241m.\u001b[39mrowcount, \u001b[38;5;124m\"\u001b[39m\u001b[38;5;124mrecord inserted.\u001b[39m\u001b[38;5;124m\"\u001b[39m)\n",
      "File \u001b[0;32m~/anaconda3/lib/python3.11/site-packages/mysql/connector/cursor_cext.py:346\u001b[0m, in \u001b[0;36mCMySQLCursor.execute\u001b[0;34m(self, operation, params, multi)\u001b[0m\n\u001b[1;32m    344\u001b[0m         \u001b[38;5;28;01mraise\u001b[39;00m ProgrammingError\n\u001b[1;32m    345\u001b[0m \u001b[38;5;28;01mexcept\u001b[39;00m (ProgrammingError, \u001b[38;5;167;01mReferenceError\u001b[39;00m) \u001b[38;5;28;01mas\u001b[39;00m err:\n\u001b[0;32m--> 346\u001b[0m     \u001b[38;5;28;01mraise\u001b[39;00m ProgrammingError(\u001b[38;5;124m\"\u001b[39m\u001b[38;5;124mCursor is not connected\u001b[39m\u001b[38;5;124m\"\u001b[39m, \u001b[38;5;241m2055\u001b[39m) \u001b[38;5;28;01mfrom\u001b[39;00m \u001b[38;5;21;01merr\u001b[39;00m\n\u001b[1;32m    347\u001b[0m \u001b[38;5;28mself\u001b[39m\u001b[38;5;241m.\u001b[39m_cnx\u001b[38;5;241m.\u001b[39mhandle_unread_result()\n\u001b[1;32m    349\u001b[0m stmt \u001b[38;5;241m=\u001b[39m \u001b[38;5;124mb\u001b[39m\u001b[38;5;124m\"\u001b[39m\u001b[38;5;124m\"\u001b[39m\n",
      "\u001b[0;31mProgrammingError\u001b[0m: 2055: Cursor is not connected"
     ]
    }
   ],
   "source": [
    "#\n",
    "sql = \"INSERT INTO customers (name, address) VALUES (%s, %s)\"\n",
    "val = (\"John\", \"Highway 21\")\n",
    "mycursor.execute(sql, val)\n",
    "\n",
    "mydb.commit()\n",
    "\n",
    "print(mycursor.rowcount, \"record inserted.\")"
   ]
  },
  {
   "cell_type": "code",
   "execution_count": null,
   "id": "fcdbe73c",
   "metadata": {},
   "outputs": [],
   "source": []
  },
  {
   "cell_type": "code",
   "execution_count": null,
   "id": "3878d645",
   "metadata": {},
   "outputs": [],
   "source": []
  },
  {
   "cell_type": "code",
   "execution_count": null,
   "id": "ae001fee",
   "metadata": {},
   "outputs": [],
   "source": []
  },
  {
   "cell_type": "code",
   "execution_count": null,
   "id": "8ea650e1",
   "metadata": {},
   "outputs": [],
   "source": []
  }
 ],
 "metadata": {
  "kernelspec": {
   "display_name": "Python 3 (ipykernel)",
   "language": "python",
   "name": "python3"
  },
  "language_info": {
   "codemirror_mode": {
    "name": "ipython",
    "version": 3
   },
   "file_extension": ".py",
   "mimetype": "text/x-python",
   "name": "python",
   "nbconvert_exporter": "python",
   "pygments_lexer": "ipython3",
   "version": "3.11.5"
  }
 },
 "nbformat": 4,
 "nbformat_minor": 5
}
