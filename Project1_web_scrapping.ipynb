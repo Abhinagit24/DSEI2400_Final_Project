{
 "cells": [
  {
   "cell_type": "markdown",
   "id": "6b3ddfa4",
   "metadata": {},
   "source": [
    "# Automating websearch for the query term"
   ]
  },
  {
   "cell_type": "markdown",
   "id": "a9a9598f",
   "metadata": {},
   "source": [
    "Using the python file `screenshot_automation.py` for automated screenshot of the query results in Chrome for query term: \"Childhood cancer early diagnosis methods\". selenium.webdriver is used inorder to automate the query and the final screenshot if saved as screenshot.png."
   ]
  },
  {
   "cell_type": "code",
   "execution_count": 14,
   "id": "f0f26e95",
   "metadata": {},
   "outputs": [],
   "source": [
    "%run screenshot_automation.py"
   ]
  },
  {
   "cell_type": "markdown",
   "id": "88a85ab2",
   "metadata": {},
   "source": [
    " Now, the obtained screenshot is used to scrape info using pytesseract library "
   ]
  },
  {
   "cell_type": "code",
   "execution_count": 15,
   "id": "bd01eb0b",
   "metadata": {},
   "outputs": [
    {
     "name": "stdout",
     "output_type": "stream",
     "text": [
      "Requirement already satisfied: tesseract in /Users/abhinapremachandran/anaconda3/lib/python3.11/site-packages (0.1.3)\n",
      "Note: you may need to restart the kernel to use updated packages.\n"
     ]
    }
   ],
   "source": [
    "pip install tesseract"
   ]
  },
  {
   "cell_type": "code",
   "execution_count": 16,
   "id": "11630bc4",
   "metadata": {},
   "outputs": [
    {
     "name": "stdout",
     "output_type": "stream",
     "text": [
      "Google\n",
      "\n",
      "Childhood cancer early diagnosis methods x baa\n",
      "\n",
      "All Images News Forums Videos\n",
      "\n",
      "More Tools\n",
      "\n",
      "‘About 507,000,000 results (0.34 seconds)\n",
      "\n",
      "Scholarly articles for Childhood cancer early diagnosis methods\n",
      "Diagnosis delays in childhood cancer: a review - Dang-Tan - Cited by 302\n",
      "\n",
      "... of diagnosis and treatment: the challenge of childhood ... - Mullen - Cited by 18\n",
      "Time to diagnosis and treatment of childhood cancer - Verma - Cited by 18\n",
      "\n",
      "He or she may recommend imaging tests (i.e. MRI, x-ray), additional\n",
      "screening tests, and/or a biopsy if your child presents with an abnormal\n",
      "lump or tumor. The biopsy will involve removing some or all of the cells\n",
      "within the tumor for closer examination under a microscope.\n",
      "¢ American Childhood Cancer Organization\n",
      "hitpsi/iwww.acco.org » diagnosis i\n",
      "\n",
      "Diagnosis - ACCO - American Childhood Cancer Organization\n",
      "\n",
      "@ About featured snippets + [ll Feedback\n",
      "\n",
      "American Cancer Society\n",
      "https:/Awww.cancer.org > ...» Cancer in Children}\n",
      "Finding Cancer in Children | Childhood Cancer Signs & ...\n",
      "Oct 14, 2019 — These children may need careful, regular medical check-ups that include\n",
      "‘special tests to look for early signs of cancer.\n",
      "Missing: methods | Show results with: methods\n",
      "\n",
      "People also ask\n",
      "\n",
      "How can you detect childhood cancer early? v\n",
      "What are the methods of early detection of cancer? v\n",
      "How are pediatric cancers diagnosed? v\n",
      "What are 4 methods for diagnosis of cancer? v\n",
      "Feedback\n",
      "Cancer.Net\n",
      "\n",
      "httpsyiwww.cancernet » cancer-types > diagnosis\n",
      "\n",
      "Childhood Cancer: Diagnosis\n",
      "How childhood cancer is diagnosed - Blood tests. : Bone marrow aspiration and biopsy. «\n",
      "Lumbar puncture (spinal tap). « Ultrasound. - Computed tomography (CT or CAT) ...\n",
      "\n",
      "Discussions and forums\n",
      "\n",
      "How is pediatric cancer diagnosed at its early stages? - Quora\n",
      "\n",
      "Q Quora - sanswers  6y ago\n",
      "\n",
      "How does early cancer detection work, how is cancer detectable? - Quora\n",
      "\n",
      "Q Quora - 2answers - 7mo ago\n",
      "\n",
      "See more ->\n",
      "\n",
      "‘St. Jude together\n",
      "hitps:/together.stjude.org  diagnosing-childhood-cancer\n",
      "Childhood Cancer Diagnosis: Tests, Exams & More\n",
      "‘Tests to diagnose childhood cancer « X-ray/ Fluoroscopy - Ultrasound (sonogram) * \\\n",
      "CT scan : PET scan - MRI : Bone scan.\n",
      "How Is childhood cancer... » Diagnosis of childhood cancer\n",
      "Missing: metheds | Show results with: methods\n",
      "\n",
      "» National Institutes of Health (NIH) (.gov)\n",
      "hitpsi/iwww.nebi.nim.nih.gov articles » PMC9919359.\n",
      "Biomarkers and Corresponding Biosensors for Childhood ...\n",
      "by A Gharehzadehshirazi - 2023 « Cited by 7 — Therefore, early and accurate detection\n",
      "methods are urgently needed to effectively treat children with cancer therapy. Identification an...\n",
      "\n",
      "PAHO IRIS\n",
      "\n",
      "hiips:/ris paho.org » 9789275118467-eng POF\n",
      "Early Diagnosis of Childhood Cancer - PAHO IRIS\n",
      "Early Detection of Cancer. 3. Neoplasms. 4. Integrated Management of Childhood. Iliness. |.\n",
      "Title. Il. AIEPI. My Child Matters. Fighting Childhood Cancer.\n",
      "\n",
      "cancercenter.com\n",
      "htipshww.cancercenter.com » cancer-types diagnosis $\n",
      "\n",
      "Diagnosing Cancer in Children\n",
      "Tests for childhood cancer diagnosis - Physical exam and blood and fluid tests « Neurological\n",
      "tests : Biopsy and needle aspiration - Imaging exams - Supporting your ...\n",
      "\n",
      "© Nationa! institutes of Heath NH) (gov)\n",
      "https://pubmed.ncbi.nim.nih.gov » i\n",
      "\n",
      "Biomarkers and Corresponding Biosensors for Childhood ...\n",
      "by A Gharehzadehshirazi - 2023 - Cited by 7 — Identification and detection of cancer\n",
      "biomarkers serve as non-invasive tools for early cancer screening, prevention, and treatment.\n",
      "\n",
      "Pan American Health Organization (PAHO)\n",
      "\n",
      "hitps:/iwww.paho.org > campaigns » suppor-kids-canc....\n",
      "Support Kids with Cancer - Early Diagnosis of Childhood ...\n",
      "In pediatric cancer, a timely diagnosis and treatment are key to improving the\n",
      "chances of survival. In this task, parents, and caregivers, as well as the ...\n",
      "Missing: metheds | Show results with: methods\n",
      "\n",
      "‘Sponsored\n",
      "\n",
      "@ World Health Organization\n",
      "\n",
      "hitpsiwww.whointicancer\n",
      "Early detection and diagnosis - World Health Organization\n",
      "Many cancers can be cured if detected early and treated effectively. Learn more with WHO.\n",
      "Cancer Is a leading cause of death worldwide that can affect any part of the body. Official WHO\n",
      "website. Services: Scam alert, Advice...\n",
      "Childhood cancer - Colorectal cancer « Breast cancer « Cervical Cancer « Cancer\n",
      "\n",
      "Related searches :\n",
      "\n",
      "first signs my child has cana child have cancer with\n",
      "cancer normal blood work\n",
      "\n",
      "Q ey myfon iid navel cance Q childhood cancer symptoms\n",
      "\n",
      "fed flag signs of cancer in first signs my child has\n",
      "childhood cancer reddit\n",
      "\n",
      "blood tests for childhood Why is chiidhood cancer\n",
      "cancer increasing\n",
      "\n",
      "Cleveland Clinic\n",
      "\n",
      "https://my.clevelandclinic.org » health » diseases » 249...\n",
      "\n",
      "Childhood Cancer (Pediatric Cancer)\n",
      "\n",
      "May 1, 2023 — Childhood cancer tests may include: Blood tests. Your child's provider may do\n",
      "blood tests to diagnose conditions such as leukemia and lymphoma.\n",
      "\n",
      "Missing: methods | Show results with: methods\n",
      "\n",
      "a Advocate Children’s Hospital\n",
      "htipsiwww.advocatechildrenshospita.com > cancer dl... £\n",
      "Diagnosing childhood cancer with tests and scans\n",
      "Tumor biopsies and other diagnostic procedures - Biopsy: Your child's doctor may remove a\n",
      "‘small amount of tissue where they suspect the cancer is located. : Bone ...\n",
      "Missing: early | Show results with: early\n",
      "\n",
      "(@% World Heath Organization (WHO)\n",
      "https:/www.who.int » Newsroom > Fact sheets » Detail\n",
      "\n",
      "Childhood cancer\n",
      "Dec 13, 2021 — When identified early, cancer is more likely to respond to effective treatment\n",
      "and result in a greater probability of survival, less suffering, ...\n",
      "\n",
      "© BMJ Open\n",
      "httpsi/omjopen.bm).com > content £\n",
      "\n",
      "The Childhood Cancer Diagnosis (CCD) Study\n",
      "by D Shanmugavadivel - 2022 - Cited by 1 — Data will be collected at initial diagnosis and 5\n",
      "years after diagnosis. Data will include demographic details, clinical symptoms, tumour...\n",
      "\n",
      "Yale Medicine\n",
      "https:/iwww.yalemedicine.org > conditions» pediatic-c...\n",
      "\n",
      "Pediatric Cancer\n",
      "\n",
      "Pediatric Cancer « Children can develop all kinds of cancer, but some kinds occur more\n",
      "frequently than others - Common cancer types include leukemia, ....\n",
      "\n",
      "‘American Cancer Society\n",
      "httpsy/www.cancer.org >...» Leukemia in Children £\n",
      "\n",
      "Childhood Leukemia Early Detection, Diagnosis, and Types\n",
      "Catching cancer early often allows for more treatment options. Some\n",
      "signs and symptoms that can be noticed, but that is not always the ...\n",
      "\n",
      "ly cancers may have\n",
      "\n",
      "oe Dana-Farber Cancer Institute\n",
      "https:/www.dana-farber.org » pediatric-imaging-services\n",
      "Diagnostic Imaging for Childhood Cancer\n",
      "Diagnostic imaging for pediatric cancer requires the use of specialized techniques and\n",
      "‘equipment to obtain pictures of the interior of the body, including soft ...\n",
      "\n",
      "@ World Health Organization (WHO)\n",
      "hitps/iwww.who int» Activities i rT\n",
      "Promoting cancer early diagnosis\n",
      "Early diagnosis improves cancer outcomes by providing care at the earliest possible\n",
      "‘stage and is therefore an important public health strategy in all settings.\n",
      "\n",
      "BMC Health Services Research\n",
      "hitpsibmchealthservres.biomedcentral.com articles? a\n",
      "Parent's perspectives of the pathway to diagnosis ...\n",
      "by LH Pedersen - 2020 - Cited by 19 — Early diagnosis is crucial for the treatment of “osama\n",
      "childhood cancer as it in some cases can prevent progression of disease and\n",
      "improve ..\n",
      "\n",
      "2,\n",
      "\n",
      "National Cancer insttute gov)\n",
      "httpsy/www.cancer.gov types » childhood-cancers\n",
      "\n",
      "Childhood Cancers - NCI\n",
      "\n",
      "Sep 29, 2023 — Common treatments include: surgery, chemotherapy, radiation\n",
      "therapy, immunotherapy, and stem cell transplant. Learn about these and other ...\n",
      "Missing: metheds | Show results with: methods\n",
      "\n",
      "SafeSearch »\n",
      "\n"
     ]
    }
   ],
   "source": [
    "import cv2\n",
    "import pytesseract\n",
    "\n",
    "img = cv2.imread('screenshot.png')\n",
    "text = pytesseract.image_to_string(img)\n",
    "print(text)"
   ]
  },
  {
   "cell_type": "code",
   "execution_count": 17,
   "id": "58515820",
   "metadata": {},
   "outputs": [
    {
     "data": {
      "text/plain": [
       "str"
      ]
     },
     "execution_count": 17,
     "metadata": {},
     "output_type": "execute_result"
    }
   ],
   "source": [
    "type(text)"
   ]
  },
  {
   "cell_type": "code",
   "execution_count": 18,
   "id": "2df42246",
   "metadata": {},
   "outputs": [],
   "source": [
    "#pip install mysql-connector-python"
   ]
  },
  {
   "cell_type": "code",
   "execution_count": 8,
   "id": "83169e52",
   "metadata": {},
   "outputs": [],
   "source": [
    "import mysql.connector"
   ]
  },
  {
   "cell_type": "code",
   "execution_count": 9,
   "id": "17921497",
   "metadata": {},
   "outputs": [
    {
     "name": "stdout",
     "output_type": "stream",
     "text": [
      "<mysql.connector.connection_cext.CMySQLConnection object at 0x16681f350>\n"
     ]
    }
   ],
   "source": [
    "import mysql.connector\n",
    "\n",
    "mydb = mysql.connector.connect(\n",
    "  host=\"localhost\",\n",
    "  user=input(\"Enter the MySQL Username\"),\n",
    "  password=input(\"Enter the MySQL Password\"),\n",
    ")\n",
    "\n",
    "print(mydb)"
   ]
  },
  {
   "cell_type": "code",
   "execution_count": 10,
   "id": "3aedbc51",
   "metadata": {},
   "outputs": [
    {
     "name": "stdout",
     "output_type": "stream",
     "text": [
      "('information_schema',)\n",
      "('MY_CUSTOM_BOT',)\n",
      "('mysql',)\n",
      "('performance_schema',)\n",
      "('sys',)\n"
     ]
    }
   ],
   "source": [
    "mycursor = mydb.cursor()\n",
    "\n",
    "mycursor.execute(\"SHOW DATABASES\")\n",
    "\n",
    "for x in mycursor:\n",
    "  print(x)"
   ]
  },
  {
   "cell_type": "code",
   "execution_count": 11,
   "id": "a9685657",
   "metadata": {},
   "outputs": [],
   "source": [
    "# connecting to the database\n",
    "mydb = mysql.connector.connect(\n",
    "  host=\"localhost\",\n",
    "  user=\"root\",\n",
    "  password=\"Astro2498!\",\n",
    "  database=\"MY_CUSTOM_BOT\"\n",
    ")"
   ]
  },
  {
   "cell_type": "code",
   "execution_count": 12,
   "id": "ec64f5d8",
   "metadata": {},
   "outputs": [
    {
     "ename": "SyntaxError",
     "evalue": "(unicode error) 'unicodeescape' codec can't decode bytes in position 4-5: truncated \\uXXXX escape (2360559860.py, line 3)",
     "output_type": "error",
     "traceback": [
      "\u001B[0;36m  Cell \u001B[0;32mIn[12], line 3\u001B[0;36m\u001B[0m\n\u001B[0;31m    with open(\"path\\url_example.txt\") as file:\u001B[0m\n\u001B[0m                                    ^\u001B[0m\n\u001B[0;31mSyntaxError\u001B[0m\u001B[0;31m:\u001B[0m (unicode error) 'unicodeescape' codec can't decode bytes in position 4-5: truncated \\uXXXX escape\n"
     ]
    }
   ],
   "source": [
    "import re\n",
    " \n",
    "with open(\"path\\url_example.txt\") as file:\n",
    "        for line in file:\n",
    "            urls = re.findall('https?://(?:[-\\w.]|(?:%[\\da-fA-F]{2}))+', line)\n",
    "            print(urls)"
   ]
  },
  {
   "cell_type": "code",
   "execution_count": 24,
   "id": "cdf5e7cf",
   "metadata": {},
   "outputs": [
    {
     "data": {
      "text/plain": [
       "str"
      ]
     },
     "execution_count": 24,
     "metadata": {},
     "output_type": "execute_result"
    }
   ],
   "source": []
  },
  {
   "cell_type": "code",
   "execution_count": 11,
   "id": "2aa7d3ba",
   "metadata": {},
   "outputs": [
    {
     "ename": "ProgrammingError",
     "evalue": "2055: Cursor is not connected",
     "output_type": "error",
     "traceback": [
      "\u001B[0;31m---------------------------------------------------------------------------\u001B[0m",
      "\u001B[0;31mReferenceError\u001B[0m                            Traceback (most recent call last)",
      "File \u001B[0;32m~/anaconda3/lib/python3.11/site-packages/mysql/connector/cursor_cext.py:343\u001B[0m, in \u001B[0;36mCMySQLCursor.execute\u001B[0;34m(self, operation, params, multi)\u001B[0m\n\u001B[1;32m    342\u001B[0m \u001B[38;5;28;01mtry\u001B[39;00m:\n\u001B[0;32m--> 343\u001B[0m     \u001B[38;5;28;01mif\u001B[39;00m \u001B[38;5;129;01mnot\u001B[39;00m \u001B[38;5;28mself\u001B[39m\u001B[38;5;241m.\u001B[39m_cnx \u001B[38;5;129;01mor\u001B[39;00m \u001B[38;5;28mself\u001B[39m\u001B[38;5;241m.\u001B[39m_cnx\u001B[38;5;241m.\u001B[39mis_closed():\n\u001B[1;32m    344\u001B[0m         \u001B[38;5;28;01mraise\u001B[39;00m ProgrammingError\n",
      "\u001B[0;31mReferenceError\u001B[0m: weakly-referenced object no longer exists",
      "\nThe above exception was the direct cause of the following exception:\n",
      "\u001B[0;31mProgrammingError\u001B[0m                          Traceback (most recent call last)",
      "Cell \u001B[0;32mIn[11], line 4\u001B[0m\n\u001B[1;32m      2\u001B[0m sql \u001B[38;5;241m=\u001B[39m \u001B[38;5;124m\"\u001B[39m\u001B[38;5;124mINSERT INTO customers (name, address) VALUES (\u001B[39m\u001B[38;5;132;01m%s\u001B[39;00m\u001B[38;5;124m, \u001B[39m\u001B[38;5;132;01m%s\u001B[39;00m\u001B[38;5;124m)\u001B[39m\u001B[38;5;124m\"\u001B[39m\n\u001B[1;32m      3\u001B[0m val \u001B[38;5;241m=\u001B[39m (\u001B[38;5;124m\"\u001B[39m\u001B[38;5;124mJohn\u001B[39m\u001B[38;5;124m\"\u001B[39m, \u001B[38;5;124m\"\u001B[39m\u001B[38;5;124mHighway 21\u001B[39m\u001B[38;5;124m\"\u001B[39m)\n\u001B[0;32m----> 4\u001B[0m mycursor\u001B[38;5;241m.\u001B[39mexecute(sql, val)\n\u001B[1;32m      6\u001B[0m mydb\u001B[38;5;241m.\u001B[39mcommit()\n\u001B[1;32m      8\u001B[0m \u001B[38;5;28mprint\u001B[39m(mycursor\u001B[38;5;241m.\u001B[39mrowcount, \u001B[38;5;124m\"\u001B[39m\u001B[38;5;124mrecord inserted.\u001B[39m\u001B[38;5;124m\"\u001B[39m)\n",
      "File \u001B[0;32m~/anaconda3/lib/python3.11/site-packages/mysql/connector/cursor_cext.py:346\u001B[0m, in \u001B[0;36mCMySQLCursor.execute\u001B[0;34m(self, operation, params, multi)\u001B[0m\n\u001B[1;32m    344\u001B[0m         \u001B[38;5;28;01mraise\u001B[39;00m ProgrammingError\n\u001B[1;32m    345\u001B[0m \u001B[38;5;28;01mexcept\u001B[39;00m (ProgrammingError, \u001B[38;5;167;01mReferenceError\u001B[39;00m) \u001B[38;5;28;01mas\u001B[39;00m err:\n\u001B[0;32m--> 346\u001B[0m     \u001B[38;5;28;01mraise\u001B[39;00m ProgrammingError(\u001B[38;5;124m\"\u001B[39m\u001B[38;5;124mCursor is not connected\u001B[39m\u001B[38;5;124m\"\u001B[39m, \u001B[38;5;241m2055\u001B[39m) \u001B[38;5;28;01mfrom\u001B[39;00m \u001B[38;5;21;01merr\u001B[39;00m\n\u001B[1;32m    347\u001B[0m \u001B[38;5;28mself\u001B[39m\u001B[38;5;241m.\u001B[39m_cnx\u001B[38;5;241m.\u001B[39mhandle_unread_result()\n\u001B[1;32m    349\u001B[0m stmt \u001B[38;5;241m=\u001B[39m \u001B[38;5;124mb\u001B[39m\u001B[38;5;124m\"\u001B[39m\u001B[38;5;124m\"\u001B[39m\n",
      "\u001B[0;31mProgrammingError\u001B[0m: 2055: Cursor is not connected"
     ]
    }
   ],
   "source": [
    "#\n",
    "sql = \"INSERT INTO customers (name, address) VALUES (%s, %s)\"\n",
    "val = (\"John\", \"Highway 21\")\n",
    "mycursor.execute(sql, val)\n",
    "\n",
    "mydb.commit()\n",
    "\n",
    "print(mycursor.rowcount, \"record inserted.\")"
   ]
  },
  {
   "cell_type": "code",
   "execution_count": null,
   "id": "fcdbe73c",
   "metadata": {},
   "outputs": [],
   "source": []
  },
  {
   "cell_type": "code",
   "execution_count": null,
   "id": "3878d645",
   "metadata": {},
   "outputs": [],
   "source": []
  },
  {
   "cell_type": "code",
   "execution_count": null,
   "id": "ae001fee",
   "metadata": {},
   "outputs": [],
   "source": []
  },
  {
   "cell_type": "code",
   "execution_count": null,
   "id": "8ea650e1",
   "metadata": {},
   "outputs": [],
   "source": []
  }
 ],
 "metadata": {
  "kernelspec": {
   "display_name": "Python 3 (ipykernel)",
   "language": "python",
   "name": "python3"
  },
  "language_info": {
   "codemirror_mode": {
    "name": "ipython",
    "version": 3
   },
   "file_extension": ".py",
   "mimetype": "text/x-python",
   "name": "python",
   "nbconvert_exporter": "python",
   "pygments_lexer": "ipython3",
   "version": "3.11.5"
  }
 },
 "nbformat": 4,
 "nbformat_minor": 5
}
