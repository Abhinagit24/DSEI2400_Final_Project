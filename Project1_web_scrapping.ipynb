{
 "cells": [
  {
   "cell_type": "markdown",
   "id": "6b3ddfa4",
   "metadata": {},
   "source": [
    "# Automating websearch for the query term"
   ]
  },
  {
   "cell_type": "markdown",
   "id": "a9a9598f",
   "metadata": {},
   "source": [
    "Using the python file `screenshot_automation.py` for automated screenshot of the query results in Chrome for query term: \"Childhood cancer early diagnosis methods\". selenium.webdriver is used inorder to automate the query and the final screenshot if saved as screenshot.png."
   ]
  },
  {
   "cell_type": "code",
<<<<<<< HEAD
   "execution_count": null,
=======
   "execution_count": 6,
>>>>>>> 66f41c5fe9892406c570ed4740ef50f1f49791d0
   "id": "f0f26e95",
   "metadata": {
    "ExecuteTime": {
     "end_time": "2024-04-06T21:30:48.926595Z",
     "start_time": "2024-04-06T21:30:24.506440Z"
    }
   },
   "outputs": [],
   "source": [
    "%run screenshot_automation.py"
   ]
  },
  {
   "cell_type": "markdown",
   "id": "88a85ab2",
   "metadata": {},
   "source": [
    " Now, the obtained screenshot is used to scrape info using pytesseract library "
   ]
  },
  {
   "cell_type": "code",
<<<<<<< HEAD
   "execution_count": null,
   "id": "bee2a3a1",
   "metadata": {},
   "outputs": [],
=======
   "execution_count": 7,
   "id": "bd01eb0b",
   "metadata": {
    "ExecuteTime": {
     "end_time": "2024-04-06T21:30:50.063356Z",
     "start_time": "2024-04-06T21:30:48.928732Z"
    }
   },
   "outputs": [
    {
     "name": "stdout",
     "output_type": "stream",
     "text": [
      "Requirement already satisfied: tesseract in /Library/Frameworks/Python.framework/Versions/3.11/lib/python3.11/site-packages (0.1.3)\r\n",
      "\r\n",
      "\u001B[1m[\u001B[0m\u001B[34;49mnotice\u001B[0m\u001B[1;39;49m]\u001B[0m\u001B[39;49m A new release of pip is available: \u001B[0m\u001B[31;49m23.2.1\u001B[0m\u001B[39;49m -> \u001B[0m\u001B[32;49m24.0\u001B[0m\r\n",
      "\u001B[1m[\u001B[0m\u001B[34;49mnotice\u001B[0m\u001B[1;39;49m]\u001B[0m\u001B[39;49m To update, run: \u001B[0m\u001B[32;49mpip3.11 install --upgrade pip\u001B[0m\r\n",
      "Note: you may need to restart the kernel to use updated packages.\n"
     ]
    }
   ],
   "source": [
    "pip install tesseract"
   ]
  },
  {
   "cell_type": "code",
   "execution_count": 12,
   "id": "11630bc4",
   "metadata": {
    "ExecuteTime": {
     "end_time": "2024-04-06T21:35:55.746681Z",
     "start_time": "2024-04-06T21:35:49.225403Z"
    }
   },
   "outputs": [
    {
     "name": "stdout",
     "output_type": "stream",
     "text": [
      "Google\n",
      "\n",
      "Childhood cancer early diagnosis methods x baa\n",
      "\n",
      "All Images News Forums Videos\n",
      "\n",
      "More Tools\n",
      "\n",
      "‘About 507,000,000 results (0.34 seconds)\n",
      "\n",
      "Scholarly articles for Childhood cancer early diagnosis methods\n",
      "Diagnosis delays in childhood cancer: a review - Dang-Tan - Cited by 302\n",
      "\n",
      "... of diagnosis and treatment: the challenge of childhood ... - Mullen - Cited by 18\n",
      "Time to diagnosis and treatment of childhood cancer - Verma - Cited by 18\n",
      "\n",
      "He or she may recommend imaging tests (i.e. MRI, x-ray), additional\n",
      "screening tests, and/or a biopsy if your child presents with an abnormal\n",
      "lump or tumor. The biopsy will involve removing some or all of the cells\n",
      "within the tumor for closer examination under a microscope.\n",
      "¢ American Childhood Cancer Organization\n",
      "hitpsi/iwww.acco.org » diagnosis i\n",
      "\n",
      "Diagnosis - ACCO - American Childhood Cancer Organization\n",
      "\n",
      "@ About featured snippets + [ll Feedback\n",
      "\n",
      "American Cancer Society\n",
      "https:/Awww.cancer.org > ...» Cancer in Children}\n",
      "Finding Cancer in Children | Childhood Cancer Signs & ...\n",
      "Oct 14, 2019 — These children may need careful, regular medical check-ups that include\n",
      "‘special tests to look for early signs of cancer.\n",
      "Missing: methods | Show results with: methods\n",
      "\n",
      "People also ask\n",
      "\n",
      "How can you detect childhood cancer early? v\n",
      "What are the methods of early detection of cancer? v\n",
      "How are pediatric cancers diagnosed? v\n",
      "What are 4 methods for diagnosis of cancer? v\n",
      "Feedback\n",
      "Cancer.Net\n",
      "\n",
      "httpsyiwww.cancernet » cancer-types > diagnosis\n",
      "\n",
      "Childhood Cancer: Diagnosis\n",
      "How childhood cancer is diagnosed - Blood tests. : Bone marrow aspiration and biopsy. «\n",
      "Lumbar puncture (spinal tap). « Ultrasound. - Computed tomography (CT or CAT) ...\n",
      "\n",
      "Discussions and forums\n",
      "\n",
      "How is pediatric cancer diagnosed at its early stages? - Quora\n",
      "\n",
      "Q Quora - sanswers  6y ago\n",
      "\n",
      "How does early cancer detection work, how is cancer detectable? - Quora\n",
      "\n",
      "Q Quora - 2answers - 7mo ago\n",
      "\n",
      "See more ->\n",
      "\n",
      "‘St. Jude together\n",
      "hitps:/together.stjude.org  diagnosing-childhood-cancer\n",
      "Childhood Cancer Diagnosis: Tests, Exams & More\n",
      "‘Tests to diagnose childhood cancer « X-ray/ Fluoroscopy - Ultrasound (sonogram) * \\\n",
      "CT scan : PET scan - MRI : Bone scan.\n",
      "How Is childhood cancer... » Diagnosis of childhood cancer\n",
      "Missing: metheds | Show results with: methods\n",
      "\n",
      "» National Institutes of Health (NIH) (.gov)\n",
      "hitpsi/iwww.nebi.nim.nih.gov articles » PMC9919359.\n",
      "Biomarkers and Corresponding Biosensors for Childhood ...\n",
      "by A Gharehzadehshirazi - 2023 « Cited by 7 — Therefore, early and accurate detection\n",
      "methods are urgently needed to effectively treat children with cancer therapy. Identification an...\n",
      "\n",
      "PAHO IRIS\n",
      "\n",
      "hiips:/ris paho.org » 9789275118467-eng POF\n",
      "Early Diagnosis of Childhood Cancer - PAHO IRIS\n",
      "Early Detection of Cancer. 3. Neoplasms. 4. Integrated Management of Childhood. Iliness. |.\n",
      "Title. Il. AIEPI. My Child Matters. Fighting Childhood Cancer.\n",
      "\n",
      "cancercenter.com\n",
      "htipshww.cancercenter.com » cancer-types diagnosis $\n",
      "\n",
      "Diagnosing Cancer in Children\n",
      "Tests for childhood cancer diagnosis - Physical exam and blood and fluid tests « Neurological\n",
      "tests : Biopsy and needle aspiration - Imaging exams - Supporting your ...\n",
      "\n",
      "© Nationa! institutes of Heath NH) (gov)\n",
      "https://pubmed.ncbi.nim.nih.gov » i\n",
      "\n",
      "Biomarkers and Corresponding Biosensors for Childhood ...\n",
      "by A Gharehzadehshirazi - 2023 - Cited by 7 — Identification and detection of cancer\n",
      "biomarkers serve as non-invasive tools for early cancer screening, prevention, and treatment.\n",
      "\n",
      "Pan American Health Organization (PAHO)\n",
      "\n",
      "hitps:/iwww.paho.org > campaigns » suppor-kids-canc....\n",
      "Support Kids with Cancer - Early Diagnosis of Childhood ...\n",
      "In pediatric cancer, a timely diagnosis and treatment are key to improving the\n",
      "chances of survival. In this task, parents, and caregivers, as well as the ...\n",
      "Missing: metheds | Show results with: methods\n",
      "\n",
      "‘Sponsored\n",
      "\n",
      "@ World Health Organization\n",
      "\n",
      "hitpsiwww.whointicancer\n",
      "Early detection and diagnosis - World Health Organization\n",
      "Many cancers can be cured if detected early and treated effectively. Learn more with WHO.\n",
      "Cancer Is a leading cause of death worldwide that can affect any part of the body. Official WHO\n",
      "website. Services: Scam alert, Advice...\n",
      "Childhood cancer « Breast cancer « Colorectal cancer « Cervical Cancer « Cancer\n",
      "\n",
      "Related searches :\n",
      "\n",
      "first signs my child has cana child have cancer with\n",
      "cancer normal blood work\n",
      "\n",
      "Q ey myfon iid navel cance Q childhood cancer symptoms\n",
      "\n",
      "fed flag signs of cancer in first signs my child has\n",
      "childhood cancer reddit\n",
      "\n",
      "blood tests for childhood Why is chiidhood cancer\n",
      "cancer increasing\n",
      "\n",
      "Cleveland Clinic\n",
      "\n",
      "https://my.clevelandclinic.org » health » diseases » 249...\n",
      "\n",
      "Childhood Cancer (Pediatric Cancer)\n",
      "\n",
      "May 1, 2023 — Childhood cancer tests may include: Blood tests. Your child's provider may do\n",
      "blood tests to diagnose conditions such as leukemia and lymphoma.\n",
      "\n",
      "Missing: methods | Show results with: methods\n",
      "\n",
      "a Advocate Children’s Hospital\n",
      "htipsiwww.advocatechildrenshospita.com > cancer dl... £\n",
      "Diagnosing childhood cancer with tests and scans\n",
      "Tumor biopsies and other diagnostic procedures - Biopsy: Your child's doctor may remove a\n",
      "‘small amount of tissue where they suspect the cancer is located. : Bone ...\n",
      "Missing: early | Show results with: early\n",
      "\n",
      "(@% World Heath Organization (WHO)\n",
      "https:/www.who.int » Newsroom > Fact sheets » Detail\n",
      "\n",
      "Childhood cancer\n",
      "Dec 13, 2021 — When identified early, cancer is more likely to respond to effective treatment\n",
      "and result in a greater probability of survival, less suffering, ...\n",
      "\n",
      "© BMJ Open\n",
      "httpsi/omjopen.bm).com > content £\n",
      "\n",
      "The Childhood Cancer Diagnosis (CCD) Study\n",
      "by D Shanmugavadivel - 2022 - Cited by 1 — Data will be collected at initial diagnosis and 5\n",
      "years after diagnosis. Data will include demographic details, clinical symptoms, tumour...\n",
      "\n",
      "Yale Medicine\n",
      "https:/iwww.yalemedicine.org > conditions» pediatic-c...\n",
      "\n",
      "Pediatric Cancer\n",
      "\n",
      "Pediatric Cancer « Children can develop all kinds of cancer, but some kinds occur more\n",
      "frequently than others - Common cancer types include leukemia, ....\n",
      "\n",
      "‘American Cancer Society\n",
      "httpsy/www.cancer.org >...» Leukemia in Children £\n",
      "\n",
      "Childhood Leukemia Early Detection, Diagnosis, and Types\n",
      "Catching cancer early often allows for more treatment options. Some\n",
      "signs and symptoms that can be noticed, but that is not always the ...\n",
      "\n",
      "ly cancers may have\n",
      "\n",
      "oe Dana-Farber Cancer Institute\n",
      "https:/www.dana-farber.org » pediatric-imaging-services\n",
      "Diagnostic Imaging for Childhood Cancer\n",
      "Diagnostic imaging for pediatric cancer requires the use of specialized techniques and\n",
      "‘equipment to obtain pictures of the interior of the body, including soft ...\n",
      "\n",
      "@ World Health Organization (WHO)\n",
      "hitps/iwww.who int» Activities i rT\n",
      "Promoting cancer early diagnosis\n",
      "Early diagnosis improves cancer outcomes by providing care at the earliest possible\n",
      "‘stage and is therefore an important public health strategy in all settings.\n",
      "\n",
      "BMC Health Services Research\n",
      "hitpsibmchealthservres.biomedcentral.com articles? a\n",
      "Parent's perspectives of the pathway to diagnosis ...\n",
      "by LH Pedersen - 2020 - Cited by 19 — Early diagnosis is crucial for the treatment of “osama\n",
      "childhood cancer as it in some cases can prevent progression of disease and\n",
      "improve ..\n",
      "\n",
      "2,\n",
      "\n",
      "National Cancer insttute gov)\n",
      "httpsy/www.cancer.gov types » childhood-cancers\n",
      "\n",
      "Childhood Cancers - NCI\n",
      "\n",
      "Sep 29, 2023 — Common treatments include: surgery, chemotherapy, radiation\n",
      "therapy, immunotherapy, and stem cell transplant. Learn about these and other ...\n",
      "Missing: metheds | Show results with: methods\n",
      "\n",
      "SafeSearch »\n"
     ]
    }
   ],
   "source": [
    "import cv2\n",
    "import pytesseract\n",
    "\n",
    "img = cv2.imread('screenshot.png')\n",
    "text = pytesseract.image_to_string(img)\n",
    "print(text)"
   ]
  },
  {
   "cell_type": "code",
   "execution_count": 13,
   "id": "58515820",
   "metadata": {
    "ExecuteTime": {
     "end_time": "2024-04-06T21:35:55.753075Z",
     "start_time": "2024-04-06T21:35:55.748385Z"
    }
   },
   "outputs": [
    {
     "data": {
      "text/plain": "str"
     },
     "execution_count": 13,
     "metadata": {},
     "output_type": "execute_result"
    }
   ],
   "source": [
    "type(text)"
   ]
  },
  {
   "cell_type": "code",
   "outputs": [],
   "source": [
    "# converting the string object to a text file\n",
    "with open(\"web_scrap.txt\",\"w\") as file:\n",
    "    file.write(text)"
   ],
   "metadata": {
    "collapsed": false,
    "ExecuteTime": {
     "end_time": "2024-04-07T00:20:21.051661Z",
     "start_time": "2024-04-07T00:20:21.040157Z"
    }
   },
   "id": "efcb55e3cfaabe44",
   "execution_count": 20
  },
  {
   "cell_type": "code",
   "execution_count": 31,
   "id": "ec64f5d8",
   "metadata": {
    "ExecuteTime": {
     "end_time": "2024-04-07T00:42:29.715513Z",
     "start_time": "2024-04-07T00:42:29.694181Z"
    }
   },
   "outputs": [
    {
     "name": "stdout",
     "output_type": "stream",
     "text": [
      "['https://pubmed.ncbi.nim.nih.gov', 'https://my.clevelandclinic.org']\n"
     ]
    }
   ],
>>>>>>> 66f41c5fe9892406c570ed4740ef50f1f49791d0
   "source": [
    "import re\n",
    " \n",
    "with open(\"web_scrap.txt\",'r') as file:\n",
    "    text = file.read()\n",
    "urls = re.findall(r'http[s]?://(?:[a-zA-Z]|[0-9]|[$-_@.&+]|[!*\\\\(\\\\),]|(?:%[0-9a-fA-F][0-9a-fA-F]))+(?:\\.org)?\\b', text)\n",
    "print(urls)"
   ]
  },
  {
   "cell_type": "code",
<<<<<<< HEAD
   "execution_count": 15,
   "id": "11630bc4",
   "metadata": {},
   "outputs": [],
   "source": [
    "import cv2\n",
    "import pytesseract\n",
    "import matplotlib.pyplot as plt\n",
    "import os"
   ]
  },
  {
   "cell_type": "code",
   "execution_count": 17,
   "id": "4577af9b",
   "metadata": {},
   "outputs": [],
   "source": [
    "# specify folder where photos are\n",
    "folder_path = 'C:\\\\Users\\\\esthe\\\\DataEngineering\\\\DSEI2400_Final_Project\\\\Web_Photos'\n",
    "# list all files in the folder\n",
    "file_names = os.listdir(folder_path)"
   ]
  },
  {
   "cell_type": "code",
   "execution_count": 21,
   "id": "e3cb423c",
   "metadata": {},
   "outputs": [
    {
     "ename": "TesseractNotFoundError",
     "evalue": "tesseract is not installed or it's not in your PATH. See README file for more information.",
     "output_type": "error",
     "traceback": [
      "\u001b[1;31m---------------------------------------------------------------------------\u001b[0m",
      "\u001b[1;31mFileNotFoundError\u001b[0m                         Traceback (most recent call last)",
      "File \u001b[1;32m~\\AppData\\Local\\Packages\\PythonSoftwareFoundation.Python.3.10_qbz5n2kfra8p0\\LocalCache\\local-packages\\Python310\\site-packages\\pytesseract\\pytesseract.py:255\u001b[0m, in \u001b[0;36mrun_tesseract\u001b[1;34m(input_filename, output_filename_base, extension, lang, config, nice, timeout)\u001b[0m\n\u001b[0;32m    254\u001b[0m \u001b[38;5;28;01mtry\u001b[39;00m:\n\u001b[1;32m--> 255\u001b[0m     proc \u001b[38;5;241m=\u001b[39m subprocess\u001b[38;5;241m.\u001b[39mPopen(cmd_args, \u001b[38;5;241m*\u001b[39m\u001b[38;5;241m*\u001b[39msubprocess_args())\n\u001b[0;32m    256\u001b[0m \u001b[38;5;28;01mexcept\u001b[39;00m \u001b[38;5;167;01mOSError\u001b[39;00m \u001b[38;5;28;01mas\u001b[39;00m e:\n",
      "File \u001b[1;32mC:\\Program Files\\WindowsApps\\PythonSoftwareFoundation.Python.3.10_3.10.3056.0_x64__qbz5n2kfra8p0\\lib\\subprocess.py:971\u001b[0m, in \u001b[0;36mPopen.__init__\u001b[1;34m(self, args, bufsize, executable, stdin, stdout, stderr, preexec_fn, close_fds, shell, cwd, env, universal_newlines, startupinfo, creationflags, restore_signals, start_new_session, pass_fds, user, group, extra_groups, encoding, errors, text, umask, pipesize)\u001b[0m\n\u001b[0;32m    968\u001b[0m             \u001b[38;5;28mself\u001b[39m\u001b[38;5;241m.\u001b[39mstderr \u001b[38;5;241m=\u001b[39m io\u001b[38;5;241m.\u001b[39mTextIOWrapper(\u001b[38;5;28mself\u001b[39m\u001b[38;5;241m.\u001b[39mstderr,\n\u001b[0;32m    969\u001b[0m                     encoding\u001b[38;5;241m=\u001b[39mencoding, errors\u001b[38;5;241m=\u001b[39merrors)\n\u001b[1;32m--> 971\u001b[0m     \u001b[38;5;28;43mself\u001b[39;49m\u001b[38;5;241;43m.\u001b[39;49m\u001b[43m_execute_child\u001b[49m\u001b[43m(\u001b[49m\u001b[43margs\u001b[49m\u001b[43m,\u001b[49m\u001b[43m \u001b[49m\u001b[43mexecutable\u001b[49m\u001b[43m,\u001b[49m\u001b[43m \u001b[49m\u001b[43mpreexec_fn\u001b[49m\u001b[43m,\u001b[49m\u001b[43m \u001b[49m\u001b[43mclose_fds\u001b[49m\u001b[43m,\u001b[49m\n\u001b[0;32m    972\u001b[0m \u001b[43m                        \u001b[49m\u001b[43mpass_fds\u001b[49m\u001b[43m,\u001b[49m\u001b[43m \u001b[49m\u001b[43mcwd\u001b[49m\u001b[43m,\u001b[49m\u001b[43m \u001b[49m\u001b[43menv\u001b[49m\u001b[43m,\u001b[49m\n\u001b[0;32m    973\u001b[0m \u001b[43m                        \u001b[49m\u001b[43mstartupinfo\u001b[49m\u001b[43m,\u001b[49m\u001b[43m \u001b[49m\u001b[43mcreationflags\u001b[49m\u001b[43m,\u001b[49m\u001b[43m \u001b[49m\u001b[43mshell\u001b[49m\u001b[43m,\u001b[49m\n\u001b[0;32m    974\u001b[0m \u001b[43m                        \u001b[49m\u001b[43mp2cread\u001b[49m\u001b[43m,\u001b[49m\u001b[43m \u001b[49m\u001b[43mp2cwrite\u001b[49m\u001b[43m,\u001b[49m\n\u001b[0;32m    975\u001b[0m \u001b[43m                        \u001b[49m\u001b[43mc2pread\u001b[49m\u001b[43m,\u001b[49m\u001b[43m \u001b[49m\u001b[43mc2pwrite\u001b[49m\u001b[43m,\u001b[49m\n\u001b[0;32m    976\u001b[0m \u001b[43m                        \u001b[49m\u001b[43merrread\u001b[49m\u001b[43m,\u001b[49m\u001b[43m \u001b[49m\u001b[43merrwrite\u001b[49m\u001b[43m,\u001b[49m\n\u001b[0;32m    977\u001b[0m \u001b[43m                        \u001b[49m\u001b[43mrestore_signals\u001b[49m\u001b[43m,\u001b[49m\n\u001b[0;32m    978\u001b[0m \u001b[43m                        \u001b[49m\u001b[43mgid\u001b[49m\u001b[43m,\u001b[49m\u001b[43m \u001b[49m\u001b[43mgids\u001b[49m\u001b[43m,\u001b[49m\u001b[43m \u001b[49m\u001b[43muid\u001b[49m\u001b[43m,\u001b[49m\u001b[43m \u001b[49m\u001b[43mumask\u001b[49m\u001b[43m,\u001b[49m\n\u001b[0;32m    979\u001b[0m \u001b[43m                        \u001b[49m\u001b[43mstart_new_session\u001b[49m\u001b[43m)\u001b[49m\n\u001b[0;32m    980\u001b[0m \u001b[38;5;28;01mexcept\u001b[39;00m:\n\u001b[0;32m    981\u001b[0m     \u001b[38;5;66;03m# Cleanup if the child failed starting.\u001b[39;00m\n",
      "File \u001b[1;32mC:\\Program Files\\WindowsApps\\PythonSoftwareFoundation.Python.3.10_3.10.3056.0_x64__qbz5n2kfra8p0\\lib\\subprocess.py:1456\u001b[0m, in \u001b[0;36mPopen._execute_child\u001b[1;34m(self, args, executable, preexec_fn, close_fds, pass_fds, cwd, env, startupinfo, creationflags, shell, p2cread, p2cwrite, c2pread, c2pwrite, errread, errwrite, unused_restore_signals, unused_gid, unused_gids, unused_uid, unused_umask, unused_start_new_session)\u001b[0m\n\u001b[0;32m   1455\u001b[0m \u001b[38;5;28;01mtry\u001b[39;00m:\n\u001b[1;32m-> 1456\u001b[0m     hp, ht, pid, tid \u001b[38;5;241m=\u001b[39m \u001b[43m_winapi\u001b[49m\u001b[38;5;241;43m.\u001b[39;49m\u001b[43mCreateProcess\u001b[49m\u001b[43m(\u001b[49m\u001b[43mexecutable\u001b[49m\u001b[43m,\u001b[49m\u001b[43m \u001b[49m\u001b[43margs\u001b[49m\u001b[43m,\u001b[49m\n\u001b[0;32m   1457\u001b[0m \u001b[43m                             \u001b[49m\u001b[38;5;66;43;03m# no special security\u001b[39;49;00m\n\u001b[0;32m   1458\u001b[0m \u001b[43m                             \u001b[49m\u001b[38;5;28;43;01mNone\u001b[39;49;00m\u001b[43m,\u001b[49m\u001b[43m \u001b[49m\u001b[38;5;28;43;01mNone\u001b[39;49;00m\u001b[43m,\u001b[49m\n\u001b[0;32m   1459\u001b[0m \u001b[43m                             \u001b[49m\u001b[38;5;28;43mint\u001b[39;49m\u001b[43m(\u001b[49m\u001b[38;5;129;43;01mnot\u001b[39;49;00m\u001b[43m \u001b[49m\u001b[43mclose_fds\u001b[49m\u001b[43m)\u001b[49m\u001b[43m,\u001b[49m\n\u001b[0;32m   1460\u001b[0m \u001b[43m                             \u001b[49m\u001b[43mcreationflags\u001b[49m\u001b[43m,\u001b[49m\n\u001b[0;32m   1461\u001b[0m \u001b[43m                             \u001b[49m\u001b[43menv\u001b[49m\u001b[43m,\u001b[49m\n\u001b[0;32m   1462\u001b[0m \u001b[43m                             \u001b[49m\u001b[43mcwd\u001b[49m\u001b[43m,\u001b[49m\n\u001b[0;32m   1463\u001b[0m \u001b[43m                             \u001b[49m\u001b[43mstartupinfo\u001b[49m\u001b[43m)\u001b[49m\n\u001b[0;32m   1464\u001b[0m \u001b[38;5;28;01mfinally\u001b[39;00m:\n\u001b[0;32m   1465\u001b[0m     \u001b[38;5;66;03m# Child is launched. Close the parent's copy of those pipe\u001b[39;00m\n\u001b[0;32m   1466\u001b[0m     \u001b[38;5;66;03m# handles that only the child should have open.  You need\u001b[39;00m\n\u001b[1;32m   (...)\u001b[0m\n\u001b[0;32m   1469\u001b[0m     \u001b[38;5;66;03m# pipe will not close when the child process exits and the\u001b[39;00m\n\u001b[0;32m   1470\u001b[0m     \u001b[38;5;66;03m# ReadFile will hang.\u001b[39;00m\n",
      "\u001b[1;31mFileNotFoundError\u001b[0m: [WinError 2] The system cannot find the file specified",
      "\nDuring handling of the above exception, another exception occurred:\n",
      "\u001b[1;31mTesseractNotFoundError\u001b[0m                    Traceback (most recent call last)",
      "Cell \u001b[1;32mIn[21], line 4\u001b[0m\n\u001b[0;32m      2\u001b[0m image_path \u001b[38;5;241m=\u001b[39m os\u001b[38;5;241m.\u001b[39mpath\u001b[38;5;241m.\u001b[39mjoin(folder_path, file_name)\n\u001b[0;32m      3\u001b[0m img \u001b[38;5;241m=\u001b[39m cv2\u001b[38;5;241m.\u001b[39mimread(image_path)\n\u001b[1;32m----> 4\u001b[0m text \u001b[38;5;241m=\u001b[39m \u001b[43mpytesseract\u001b[49m\u001b[38;5;241;43m.\u001b[39;49m\u001b[43mimage_to_string\u001b[49m\u001b[43m(\u001b[49m\u001b[43mimg\u001b[49m\u001b[43m)\u001b[49m\n\u001b[0;32m      5\u001b[0m \u001b[38;5;28mprint\u001b[39m(text)\n",
      "File \u001b[1;32m~\\AppData\\Local\\Packages\\PythonSoftwareFoundation.Python.3.10_qbz5n2kfra8p0\\LocalCache\\local-packages\\Python310\\site-packages\\pytesseract\\pytesseract.py:423\u001b[0m, in \u001b[0;36mimage_to_string\u001b[1;34m(image, lang, config, nice, output_type, timeout)\u001b[0m\n\u001b[0;32m    418\u001b[0m \u001b[38;5;250m\u001b[39m\u001b[38;5;124;03m\"\"\"\u001b[39;00m\n\u001b[0;32m    419\u001b[0m \u001b[38;5;124;03mReturns the result of a Tesseract OCR run on the provided image to string\u001b[39;00m\n\u001b[0;32m    420\u001b[0m \u001b[38;5;124;03m\"\"\"\u001b[39;00m\n\u001b[0;32m    421\u001b[0m args \u001b[38;5;241m=\u001b[39m [image, \u001b[38;5;124m'\u001b[39m\u001b[38;5;124mtxt\u001b[39m\u001b[38;5;124m'\u001b[39m, lang, config, nice, timeout]\n\u001b[1;32m--> 423\u001b[0m \u001b[38;5;28;01mreturn\u001b[39;00m \u001b[43m{\u001b[49m\n\u001b[0;32m    424\u001b[0m \u001b[43m    \u001b[49m\u001b[43mOutput\u001b[49m\u001b[38;5;241;43m.\u001b[39;49m\u001b[43mBYTES\u001b[49m\u001b[43m:\u001b[49m\u001b[43m \u001b[49m\u001b[38;5;28;43;01mlambda\u001b[39;49;00m\u001b[43m:\u001b[49m\u001b[43m \u001b[49m\u001b[43mrun_and_get_output\u001b[49m\u001b[43m(\u001b[49m\u001b[38;5;241;43m*\u001b[39;49m\u001b[43m(\u001b[49m\u001b[43margs\u001b[49m\u001b[43m \u001b[49m\u001b[38;5;241;43m+\u001b[39;49m\u001b[43m \u001b[49m\u001b[43m[\u001b[49m\u001b[38;5;28;43;01mTrue\u001b[39;49;00m\u001b[43m]\u001b[49m\u001b[43m)\u001b[49m\u001b[43m)\u001b[49m\u001b[43m,\u001b[49m\n\u001b[0;32m    425\u001b[0m \u001b[43m    \u001b[49m\u001b[43mOutput\u001b[49m\u001b[38;5;241;43m.\u001b[39;49m\u001b[43mDICT\u001b[49m\u001b[43m:\u001b[49m\u001b[43m \u001b[49m\u001b[38;5;28;43;01mlambda\u001b[39;49;00m\u001b[43m:\u001b[49m\u001b[43m \u001b[49m\u001b[43m{\u001b[49m\u001b[38;5;124;43m'\u001b[39;49m\u001b[38;5;124;43mtext\u001b[39;49m\u001b[38;5;124;43m'\u001b[39;49m\u001b[43m:\u001b[49m\u001b[43m \u001b[49m\u001b[43mrun_and_get_output\u001b[49m\u001b[43m(\u001b[49m\u001b[38;5;241;43m*\u001b[39;49m\u001b[43margs\u001b[49m\u001b[43m)\u001b[49m\u001b[43m}\u001b[49m\u001b[43m,\u001b[49m\n\u001b[0;32m    426\u001b[0m \u001b[43m    \u001b[49m\u001b[43mOutput\u001b[49m\u001b[38;5;241;43m.\u001b[39;49m\u001b[43mSTRING\u001b[49m\u001b[43m:\u001b[49m\u001b[43m \u001b[49m\u001b[38;5;28;43;01mlambda\u001b[39;49;00m\u001b[43m:\u001b[49m\u001b[43m \u001b[49m\u001b[43mrun_and_get_output\u001b[49m\u001b[43m(\u001b[49m\u001b[38;5;241;43m*\u001b[39;49m\u001b[43margs\u001b[49m\u001b[43m)\u001b[49m\u001b[43m,\u001b[49m\n\u001b[0;32m    427\u001b[0m \u001b[43m\u001b[49m\u001b[43m}\u001b[49m\u001b[43m[\u001b[49m\u001b[43moutput_type\u001b[49m\u001b[43m]\u001b[49m\u001b[43m(\u001b[49m\u001b[43m)\u001b[49m\n",
      "File \u001b[1;32m~\\AppData\\Local\\Packages\\PythonSoftwareFoundation.Python.3.10_qbz5n2kfra8p0\\LocalCache\\local-packages\\Python310\\site-packages\\pytesseract\\pytesseract.py:426\u001b[0m, in \u001b[0;36mimage_to_string.<locals>.<lambda>\u001b[1;34m()\u001b[0m\n\u001b[0;32m    418\u001b[0m \u001b[38;5;250m\u001b[39m\u001b[38;5;124;03m\"\"\"\u001b[39;00m\n\u001b[0;32m    419\u001b[0m \u001b[38;5;124;03mReturns the result of a Tesseract OCR run on the provided image to string\u001b[39;00m\n\u001b[0;32m    420\u001b[0m \u001b[38;5;124;03m\"\"\"\u001b[39;00m\n\u001b[0;32m    421\u001b[0m args \u001b[38;5;241m=\u001b[39m [image, \u001b[38;5;124m'\u001b[39m\u001b[38;5;124mtxt\u001b[39m\u001b[38;5;124m'\u001b[39m, lang, config, nice, timeout]\n\u001b[0;32m    423\u001b[0m \u001b[38;5;28;01mreturn\u001b[39;00m {\n\u001b[0;32m    424\u001b[0m     Output\u001b[38;5;241m.\u001b[39mBYTES: \u001b[38;5;28;01mlambda\u001b[39;00m: run_and_get_output(\u001b[38;5;241m*\u001b[39m(args \u001b[38;5;241m+\u001b[39m [\u001b[38;5;28;01mTrue\u001b[39;00m])),\n\u001b[0;32m    425\u001b[0m     Output\u001b[38;5;241m.\u001b[39mDICT: \u001b[38;5;28;01mlambda\u001b[39;00m: {\u001b[38;5;124m'\u001b[39m\u001b[38;5;124mtext\u001b[39m\u001b[38;5;124m'\u001b[39m: run_and_get_output(\u001b[38;5;241m*\u001b[39margs)},\n\u001b[1;32m--> 426\u001b[0m     Output\u001b[38;5;241m.\u001b[39mSTRING: \u001b[38;5;28;01mlambda\u001b[39;00m: \u001b[43mrun_and_get_output\u001b[49m\u001b[43m(\u001b[49m\u001b[38;5;241;43m*\u001b[39;49m\u001b[43margs\u001b[49m\u001b[43m)\u001b[49m,\n\u001b[0;32m    427\u001b[0m }[output_type]()\n",
      "File \u001b[1;32m~\\AppData\\Local\\Packages\\PythonSoftwareFoundation.Python.3.10_qbz5n2kfra8p0\\LocalCache\\local-packages\\Python310\\site-packages\\pytesseract\\pytesseract.py:288\u001b[0m, in \u001b[0;36mrun_and_get_output\u001b[1;34m(image, extension, lang, config, nice, timeout, return_bytes)\u001b[0m\n\u001b[0;32m    277\u001b[0m \u001b[38;5;28;01mwith\u001b[39;00m save(image) \u001b[38;5;28;01mas\u001b[39;00m (temp_name, input_filename):\n\u001b[0;32m    278\u001b[0m     kwargs \u001b[38;5;241m=\u001b[39m {\n\u001b[0;32m    279\u001b[0m         \u001b[38;5;124m'\u001b[39m\u001b[38;5;124minput_filename\u001b[39m\u001b[38;5;124m'\u001b[39m: input_filename,\n\u001b[0;32m    280\u001b[0m         \u001b[38;5;124m'\u001b[39m\u001b[38;5;124moutput_filename_base\u001b[39m\u001b[38;5;124m'\u001b[39m: temp_name,\n\u001b[1;32m   (...)\u001b[0m\n\u001b[0;32m    285\u001b[0m         \u001b[38;5;124m'\u001b[39m\u001b[38;5;124mtimeout\u001b[39m\u001b[38;5;124m'\u001b[39m: timeout,\n\u001b[0;32m    286\u001b[0m     }\n\u001b[1;32m--> 288\u001b[0m     run_tesseract(\u001b[38;5;241m*\u001b[39m\u001b[38;5;241m*\u001b[39mkwargs)\n\u001b[0;32m    289\u001b[0m     filename \u001b[38;5;241m=\u001b[39m \u001b[38;5;124mf\u001b[39m\u001b[38;5;124m\"\u001b[39m\u001b[38;5;132;01m{\u001b[39;00mkwargs[\u001b[38;5;124m'\u001b[39m\u001b[38;5;124moutput_filename_base\u001b[39m\u001b[38;5;124m'\u001b[39m]\u001b[38;5;132;01m}\u001b[39;00m\u001b[38;5;132;01m{\u001b[39;00mextsep\u001b[38;5;132;01m}\u001b[39;00m\u001b[38;5;132;01m{\u001b[39;00mextension\u001b[38;5;132;01m}\u001b[39;00m\u001b[38;5;124m\"\u001b[39m\n\u001b[0;32m    290\u001b[0m     \u001b[38;5;28;01mwith\u001b[39;00m \u001b[38;5;28mopen\u001b[39m(filename, \u001b[38;5;124m'\u001b[39m\u001b[38;5;124mrb\u001b[39m\u001b[38;5;124m'\u001b[39m) \u001b[38;5;28;01mas\u001b[39;00m output_file:\n",
      "File \u001b[1;32m~\\AppData\\Local\\Packages\\PythonSoftwareFoundation.Python.3.10_qbz5n2kfra8p0\\LocalCache\\local-packages\\Python310\\site-packages\\pytesseract\\pytesseract.py:260\u001b[0m, in \u001b[0;36mrun_tesseract\u001b[1;34m(input_filename, output_filename_base, extension, lang, config, nice, timeout)\u001b[0m\n\u001b[0;32m    258\u001b[0m         \u001b[38;5;28;01mraise\u001b[39;00m\n\u001b[0;32m    259\u001b[0m     \u001b[38;5;28;01melse\u001b[39;00m:\n\u001b[1;32m--> 260\u001b[0m         \u001b[38;5;28;01mraise\u001b[39;00m TesseractNotFoundError()\n\u001b[0;32m    262\u001b[0m \u001b[38;5;28;01mwith\u001b[39;00m timeout_manager(proc, timeout) \u001b[38;5;28;01mas\u001b[39;00m error_string:\n\u001b[0;32m    263\u001b[0m     \u001b[38;5;28;01mif\u001b[39;00m proc\u001b[38;5;241m.\u001b[39mreturncode:\n",
      "\u001b[1;31mTesseractNotFoundError\u001b[0m: tesseract is not installed or it's not in your PATH. See README file for more information."
     ]
    }
   ],
   "source": [
    "for file_name in file_names:\n",
    "    image_path = os.path.join(folder_path, file_name)\n",
    "    img = cv2.imread(image_path)\n",
    "    text = pytesseract.image_to_string(img)\n",
    "    print(text)"
   ]
=======
   "outputs": [],
   "source": [
    "#pip install mysql-connector-python"
   ],
   "metadata": {
    "ExecuteTime": {
     "end_time": "2024-04-07T00:20:32.275551Z",
     "start_time": "2024-04-07T00:20:32.270640Z"
    }
   },
   "id": "2df42246",
   "execution_count": 21
  },
  {
   "cell_type": "code",
   "outputs": [],
   "source": [
    "import mysql.connector"
   ],
   "metadata": {
    "ExecuteTime": {
     "end_time": "2024-04-07T00:20:34.151398Z",
     "start_time": "2024-04-07T00:20:34.148382Z"
    }
   },
   "id": "83169e52",
   "execution_count": 22
>>>>>>> 66f41c5fe9892406c570ed4740ef50f1f49791d0
  },
  {
   "cell_type": "code",
   "outputs": [],
   "source": [
    "# connecting to the database\n",
    "mydb = mysql.connector.connect(\n",
    "  host=\"localhost\",\n",
    "  user=input(\"Enter your mysql username\"),\n",
    "  password= input(\"Enter your mysql password\"),\n",
    "  database=\"MY_CUSTOM_BOT\"\n",
    ")\n",
    "print(mydb)"
   ],
   "metadata": {
    "ExecuteTime": {
     "end_time": "2024-04-07T00:23:04.052485Z",
     "start_time": "2024-04-07T00:22:23.722925Z"
    }
   },
   "id": "a9685657",
   "execution_count": 26
  },
  {
   "cell_type": "code",
   "outputs": [
    {
     "name": "stdout",
     "output_type": "stream",
     "text": [
      "('information_schema',)\n",
      "('MY_CUSTOM_BOT',)\n",
      "('mysql',)\n",
      "('performance_schema',)\n",
      "('sys',)\n"
     ]
    }
   ],
   "source": [
    "mycursor = mydb.cursor()\n",
    "\n",
    "mycursor.execute(\"SHOW DATABASES\")\n",
    "\n",
    "for x in mycursor:\n",
    "  print(x)"
   ],
   "metadata": {
    "ExecuteTime": {
     "end_time": "2024-04-07T00:20:39.287349Z",
     "start_time": "2024-04-07T00:20:39.252591Z"
    }
   },
   "id": "3aedbc51",
   "execution_count": 24
  },
  {
   "cell_type": "code",
   "execution_count": 24,
   "id": "cdf5e7cf",
   "metadata": {},
   "outputs": [
    {
     "data": {
      "text/plain": [
       "str"
      ]
     },
     "execution_count": 24,
     "metadata": {},
     "output_type": "execute_result"
    }
   ],
   "source": []
  },
  {
   "cell_type": "code",
   "execution_count": 11,
   "id": "2aa7d3ba",
   "metadata": {},
   "outputs": [
    {
     "ename": "ProgrammingError",
     "evalue": "2055: Cursor is not connected",
     "output_type": "error",
     "traceback": [
      "\u001B[0;31m---------------------------------------------------------------------------\u001B[0m",
      "\u001B[0;31mReferenceError\u001B[0m                            Traceback (most recent call last)",
      "File \u001B[0;32m~/anaconda3/lib/python3.11/site-packages/mysql/connector/cursor_cext.py:343\u001B[0m, in \u001B[0;36mCMySQLCursor.execute\u001B[0;34m(self, operation, params, multi)\u001B[0m\n\u001B[1;32m    342\u001B[0m \u001B[38;5;28;01mtry\u001B[39;00m:\n\u001B[0;32m--> 343\u001B[0m     \u001B[38;5;28;01mif\u001B[39;00m \u001B[38;5;129;01mnot\u001B[39;00m \u001B[38;5;28mself\u001B[39m\u001B[38;5;241m.\u001B[39m_cnx \u001B[38;5;129;01mor\u001B[39;00m \u001B[38;5;28mself\u001B[39m\u001B[38;5;241m.\u001B[39m_cnx\u001B[38;5;241m.\u001B[39mis_closed():\n\u001B[1;32m    344\u001B[0m         \u001B[38;5;28;01mraise\u001B[39;00m ProgrammingError\n",
      "\u001B[0;31mReferenceError\u001B[0m: weakly-referenced object no longer exists",
      "\nThe above exception was the direct cause of the following exception:\n",
      "\u001B[0;31mProgrammingError\u001B[0m                          Traceback (most recent call last)",
      "Cell \u001B[0;32mIn[11], line 4\u001B[0m\n\u001B[1;32m      2\u001B[0m sql \u001B[38;5;241m=\u001B[39m \u001B[38;5;124m\"\u001B[39m\u001B[38;5;124mINSERT INTO customers (name, address) VALUES (\u001B[39m\u001B[38;5;132;01m%s\u001B[39;00m\u001B[38;5;124m, \u001B[39m\u001B[38;5;132;01m%s\u001B[39;00m\u001B[38;5;124m)\u001B[39m\u001B[38;5;124m\"\u001B[39m\n\u001B[1;32m      3\u001B[0m val \u001B[38;5;241m=\u001B[39m (\u001B[38;5;124m\"\u001B[39m\u001B[38;5;124mJohn\u001B[39m\u001B[38;5;124m\"\u001B[39m, \u001B[38;5;124m\"\u001B[39m\u001B[38;5;124mHighway 21\u001B[39m\u001B[38;5;124m\"\u001B[39m)\n\u001B[0;32m----> 4\u001B[0m mycursor\u001B[38;5;241m.\u001B[39mexecute(sql, val)\n\u001B[1;32m      6\u001B[0m mydb\u001B[38;5;241m.\u001B[39mcommit()\n\u001B[1;32m      8\u001B[0m \u001B[38;5;28mprint\u001B[39m(mycursor\u001B[38;5;241m.\u001B[39mrowcount, \u001B[38;5;124m\"\u001B[39m\u001B[38;5;124mrecord inserted.\u001B[39m\u001B[38;5;124m\"\u001B[39m)\n",
      "File \u001B[0;32m~/anaconda3/lib/python3.11/site-packages/mysql/connector/cursor_cext.py:346\u001B[0m, in \u001B[0;36mCMySQLCursor.execute\u001B[0;34m(self, operation, params, multi)\u001B[0m\n\u001B[1;32m    344\u001B[0m         \u001B[38;5;28;01mraise\u001B[39;00m ProgrammingError\n\u001B[1;32m    345\u001B[0m \u001B[38;5;28;01mexcept\u001B[39;00m (ProgrammingError, \u001B[38;5;167;01mReferenceError\u001B[39;00m) \u001B[38;5;28;01mas\u001B[39;00m err:\n\u001B[0;32m--> 346\u001B[0m     \u001B[38;5;28;01mraise\u001B[39;00m ProgrammingError(\u001B[38;5;124m\"\u001B[39m\u001B[38;5;124mCursor is not connected\u001B[39m\u001B[38;5;124m\"\u001B[39m, \u001B[38;5;241m2055\u001B[39m) \u001B[38;5;28;01mfrom\u001B[39;00m \u001B[38;5;21;01merr\u001B[39;00m\n\u001B[1;32m    347\u001B[0m \u001B[38;5;28mself\u001B[39m\u001B[38;5;241m.\u001B[39m_cnx\u001B[38;5;241m.\u001B[39mhandle_unread_result()\n\u001B[1;32m    349\u001B[0m stmt \u001B[38;5;241m=\u001B[39m \u001B[38;5;124mb\u001B[39m\u001B[38;5;124m\"\u001B[39m\u001B[38;5;124m\"\u001B[39m\n",
      "\u001B[0;31mProgrammingError\u001B[0m: 2055: Cursor is not connected"
     ]
    }
   ],
   "source": [
    "#\n",
    "sql = \"INSERT INTO customers (name, address) VALUES (%s, %s)\"\n",
    "val = (\"John\", \"Highway 21\")\n",
    "mycursor.execute(sql, val)\n",
    "\n",
    "mydb.commit()\n",
    "\n",
    "print(mycursor.rowcount, \"record inserted.\")"
   ]
  },
  {
   "cell_type": "code",
   "execution_count": null,
   "id": "fcdbe73c",
   "metadata": {},
   "outputs": [],
   "source": []
  },
  {
   "cell_type": "code",
   "execution_count": null,
   "id": "3878d645",
   "metadata": {},
   "outputs": [],
   "source": []
  },
  {
   "cell_type": "code",
   "execution_count": null,
   "id": "ae001fee",
   "metadata": {},
   "outputs": [],
   "source": []
  },
  {
   "cell_type": "code",
   "execution_count": null,
   "id": "8ea650e1",
   "metadata": {},
   "outputs": [],
   "source": []
  }
 ],
 "metadata": {
  "kernelspec": {
   "display_name": "Python 3 (ipykernel)",
   "language": "python",
   "name": "python3"
  },
  "language_info": {
   "codemirror_mode": {
    "name": "ipython",
    "version": 3
   },
   "file_extension": ".py",
   "mimetype": "text/x-python",
   "name": "python",
   "nbconvert_exporter": "python",
   "pygments_lexer": "ipython3",
   "version": "3.10.11"
  }
 },
 "nbformat": 4,
 "nbformat_minor": 5
}
